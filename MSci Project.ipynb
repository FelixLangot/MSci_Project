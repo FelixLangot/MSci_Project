{
 "cells": [
  {
   "cell_type": "markdown",
   "metadata": {},
   "source": [
    "## MSci project equation"
   ]
  },
  {
   "cell_type": "markdown",
   "metadata": {},
   "source": [
    "This is an interactive python notebook to compute angular diameter distances to galaxy clusters.\n",
    "\\\n",
    "Equation adapted from Bonamente et. al 2004"
   ]
  },
  {
   "cell_type": "code",
   "execution_count": 1,
   "metadata": {},
   "outputs": [],
   "source": [
    "from scipy.special import gamma\n",
    "import numpy as np\n",
    "rad = 1 # Though that we needed radians, keep everything in arcseconds!!\n"
   ]
  },
  {
   "cell_type": "markdown",
   "metadata": {},
   "source": [
    "Here be thy constants (SI)"
   ]
  },
  {
   "cell_type": "code",
   "execution_count": 2,
   "metadata": {},
   "outputs": [],
   "source": [
    "m_e = 9.10938356e-31 # kg\n",
    "c = 299792458 # m/s\n",
    "\n",
    "T_cmb = 2.72548 # K\n",
    "sigma_T = 6.6524587158e-29 #m^2\n",
    "\n",
    "f = -2 # dimensionless \n",
    "\n",
    "#f defined as -2 in non-relativistic and RJ limits Reese et. al 2002\n"
   ]
  },
  {
   "cell_type": "markdown",
   "metadata": {},
   "source": [
    "Cluster variables (as given in Bonamente units)"
   ]
  },
  {
   "cell_type": "code",
   "execution_count": 3,
   "metadata": {},
   "outputs": [],
   "source": [
    "z_b = 0.541 # dimensionless\n",
    "beta_b = 0.686 # dimensionless\n",
    "\n",
    "S_X_b = 27.4 # cnt/cm^2/arcmin^2/s\n",
    "r_c_b = 36.7 # arcsec\n",
    "kT_b = 10.3 # keV\n",
    "\n",
    "L_ee_b = 2.5e-15 # cnt cm^3/s\n",
    "\n",
    "del_T_b = -1.44 # mK\n"
   ]
  },
  {
   "cell_type": "markdown",
   "metadata": {},
   "source": [
    "Unit conversions to SI"
   ]
  },
  {
   "cell_type": "code",
   "execution_count": 4,
   "metadata": {},
   "outputs": [],
   "source": [
    "z = z_b \n",
    "# no change\n",
    "\n",
    "beta = beta_b \n",
    "# no change\n",
    "\n",
    "\n",
    "S_X = S_X_b * 100**2 / 60**2 / rad**2 \n",
    "# cnt/cm^2/arcmin^2 -> cnt/m^2/rad^2\n",
    "\n",
    "r_c = r_c_b * rad\n",
    "# arcsec -> rad\n",
    "\n",
    "kT = kT_b * 1000 * 1.60217662e-19 \n",
    "# keV -> eV -> j\n",
    "\n",
    "\n",
    "L_ee = L_ee_b / (100**3)\n",
    "# cm^3 -> m^3\n",
    "\n",
    "\n",
    "del_T = del_T_b / 1000\n",
    "# mk -> K\n"
   ]
  },
  {
   "cell_type": "markdown",
   "metadata": {},
   "source": [
    "Need to compute gamma functions"
   ]
  },
  {
   "cell_type": "code",
   "execution_count": 5,
   "metadata": {},
   "outputs": [],
   "source": [
    "Xi = (gamma(1.5*beta)/(gamma((1.5*beta)-0.5)))**2 * (gamma((3*beta)-0.5)/gamma(3*beta))\n"
   ]
  },
  {
   "cell_type": "markdown",
   "metadata": {},
   "source": [
    "Big bad equation and conversion to GPc"
   ]
  },
  {
   "cell_type": "code",
   "execution_count": 6,
   "metadata": {},
   "outputs": [
    {
     "name": "stdout",
     "output_type": "stream",
     "text": [
      "2.724437956204379e-08\n",
      "2461.305715415168\n",
      "2.6829292692965182e+32\n",
      "0.008127764689923265\n",
      "0.28209479177387814\n",
      "\n",
      " Here is the output: 1.334932836733556\n"
     ]
    }
   ],
   "source": [
    "A = (del_T)**2 / S_X\n",
    "B = ((m_e * (c**2)) / kT)**2 \n",
    "C = L_ee / (4 * np.pi * (f**2) * (T_cmb**2) * (sigma_T**2) * (1+z)**4) \n",
    "D = (1 / r_c) * Xi\n",
    "E = 1 / (2 * np.sqrt(np.pi))\n",
    "\n",
    "print(A)\n",
    "print(B)\n",
    "print(C)\n",
    "print(D)\n",
    "print(E)\n",
    "\n",
    "print(\"\\n Here is the output:\", A*B*C*D*E/3.09e25)"
   ]
  },
  {
   "cell_type": "code",
   "execution_count": null,
   "metadata": {},
   "outputs": [],
   "source": []
  }
 ],
 "metadata": {
  "kernelspec": {
   "display_name": "Python 3",
   "language": "python",
   "name": "python3"
  },
  "language_info": {
   "codemirror_mode": {
    "name": "ipython",
    "version": 3
   },
   "file_extension": ".py",
   "mimetype": "text/x-python",
   "name": "python",
   "nbconvert_exporter": "python",
   "pygments_lexer": "ipython3",
   "version": "3.7.4"
  }
 },
 "nbformat": 4,
 "nbformat_minor": 4
}
